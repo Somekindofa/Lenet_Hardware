{
 "cells": [
  {
   "cell_type": "code",
   "execution_count": 1,
   "id": "237a9fa0-f9b8-4237-8cde-4477f7c9ba9f",
   "metadata": {},
   "outputs": [
    {
     "name": "stdout",
     "output_type": "stream",
     "text": [
      "Collecting os-sys\n",
      "  Using cached os_sys-2.1.4-py3-none-any.whl (15.6 MB)\n",
      "  Using cached os_sys-2.1.3-py3-none-any.whl (15.5 MB)\n",
      "  Using cached os_sys-2.1.2-py3-none-any.whl (15.4 MB)\n",
      "  Using cached os_sys-2.1.1-py3-none-any.whl (15.4 MB)\n",
      "  Using cached os_sys-2.1.0-py3-none-any.whl (15.9 MB)\n",
      "  Using cached os_sys-2.0.9-py3-none-any.whl (15.4 MB)\n",
      "  Using cached os_sys-2.0.8-py3-none-any.whl (15.4 MB)\n",
      "  Using cached os_sys-2.0.7-py3-none-any.whl (14.2 MB)\n",
      "  Using cached os_sys-2.0.6-py3-none-any.whl (14.2 MB)\n",
      "  Using cached os_sys-2.0.5-py3-none-any.whl (12.2 MB)\n",
      "  Using cached os_sys-2.0.4-py3-none-any.whl (50.9 MB)\n",
      "  Downloading os_sys-2.0.3-py3-none-any.whl (51.8 MB)\n",
      "\u001b[K     |████████████████████████████████| 51.8 MB 65 kB/s s eta 0:00:01\n",
      "\u001b[?25h  Downloading os_sys-2.0.2-py3-none-any.whl (54.1 MB)\n",
      "\u001b[K     |████████████████████████████████| 54.1 MB 29 kB/s  eta 0:00:012\n",
      "\u001b[?25hRequirement already satisfied: requests in /usr/lib/python3/dist-packages (from os-sys) (2.25.1)\n",
      "Collecting selenium\n",
      "  Downloading selenium-4.16.0-py3-none-any.whl (10.0 MB)\n",
      "\u001b[K     |████████████████████████████████| 10.0 MB 10.0 MB/s eta 0:00:01\n",
      "\u001b[?25hCollecting wifi\n",
      "  Using cached wifi-0.3.8.tar.gz (11 kB)\n",
      "Collecting Django\n",
      "  Using cached Django-4.2.9-py3-none-any.whl (8.0 MB)\n",
      "Collecting extract-zip\n",
      "  Downloading extract_zip-1.0.0-py3-none-any.whl (2.6 kB)\n",
      "Requirement already satisfied: beautifulsoup4 in /usr/lib/python3/dist-packages (from os-sys) (4.9.3)\n",
      "Collecting progress\n",
      "  Downloading progress-1.6.tar.gz (7.8 kB)\n",
      "Collecting pynput\n",
      "  Downloading pynput-1.7.6-py2.py3-none-any.whl (89 kB)\n",
      "\u001b[K     |████████████████████████████████| 89 kB 6.0 MB/s  eta 0:00:01\n",
      "\u001b[?25hRequirement already satisfied: pandas in /home/z/.local/lib/python3.9/site-packages (from os-sys) (1.4.4)\n",
      "Collecting Eel\n",
      "  Using cached Eel-0.16.0.tar.gz (24 kB)\n",
      "Collecting geocoder\n",
      "  Using cached geocoder-1.38.1-py2.py3-none-any.whl (98 kB)\n",
      "Collecting os-sys\n",
      "  Downloading os_sys-2.0.1-py3-none-any.whl (54.1 MB)\n",
      "\u001b[K     |████                            | 6.6 MB 9.3 MB/s eta 0:00:06\u001b[31mERROR: Could not install packages due to an EnvironmentError: [Errno 28] No space left on device\n",
      "\u001b[0m\n",
      "Note: you may need to restart the kernel to use updated packages.\n"
     ]
    }
   ],
   "source": [
    "pip install os-sys"
   ]
  },
  {
   "cell_type": "code",
   "execution_count": 2,
   "id": "8cfc0761-dc57-4352-bb9d-95c978c0eea2",
   "metadata": {},
   "outputs": [
    {
     "name": "stdout",
     "output_type": "stream",
     "text": [
      "Requirement already satisfied: matplotlib in /home/z/.local/lib/python3.9/site-packages (3.6.0)\n",
      "Requirement already satisfied: cycler>=0.10 in /home/z/.local/lib/python3.9/site-packages (from matplotlib) (0.11.0)\n",
      "Requirement already satisfied: python-dateutil>=2.7 in /home/z/.local/lib/python3.9/site-packages (from matplotlib) (2.8.2)\n",
      "Requirement already satisfied: fonttools>=4.22.0 in /home/z/.local/lib/python3.9/site-packages (from matplotlib) (4.37.3)\n",
      "Requirement already satisfied: kiwisolver>=1.0.1 in /home/z/.local/lib/python3.9/site-packages (from matplotlib) (1.4.4)\n",
      "Requirement already satisfied: numpy>=1.19 in /home/z/.local/lib/python3.9/site-packages (from matplotlib) (1.19.5)\n",
      "Requirement already satisfied: pyparsing>=2.2.1 in /usr/lib/python3/dist-packages (from matplotlib) (2.4.7)\n",
      "Requirement already satisfied: contourpy>=1.0.1 in /home/z/.local/lib/python3.9/site-packages (from matplotlib) (1.0.5)\n",
      "Requirement already satisfied: pillow>=6.2.0 in /home/z/.local/lib/python3.9/site-packages (from matplotlib) (9.2.0)\n",
      "Requirement already satisfied: packaging>=20.0 in /home/z/.local/lib/python3.9/site-packages (from matplotlib) (21.3)\n",
      "Requirement already satisfied: six>=1.5 in /usr/lib/python3/dist-packages (from python-dateutil>=2.7->matplotlib) (1.16.0)\n",
      "Note: you may need to restart the kernel to use updated packages.\n"
     ]
    }
   ],
   "source": [
    "pip install matplotlib"
   ]
  },
  {
   "cell_type": "code",
   "execution_count": 3,
   "id": "a490f7a0-cb6d-4048-87e6-3fa66ee45232",
   "metadata": {},
   "outputs": [
    {
     "name": "stderr",
     "output_type": "stream",
     "text": [
      "2024-01-04 00:14:16.025509: W tensorflow/stream_executor/platform/default/dso_loader.cc:64] Could not load dynamic library 'libcudart.so.11.0'; dlerror: libcudart.so.11.0: cannot open shared object file: No such file or directory\n",
      "2024-01-04 00:14:16.025547: I tensorflow/stream_executor/cuda/cudart_stub.cc:29] Ignore above cudart dlerror if you do not have a GPU set up on your machine.\n"
     ]
    }
   ],
   "source": [
    "import tensorflow as tf\n",
    "from tensorflow import keras\n",
    "import numpy as np\n",
    "from matplotlib import pyplot\n",
    "from keras.models import model_from_json"
   ]
  },
  {
   "cell_type": "code",
   "execution_count": 4,
   "id": "93d3031b-4533-4aec-a39f-02e28c2e70a7",
   "metadata": {},
   "outputs": [
    {
     "name": "stdout",
     "output_type": "stream",
     "text": [
      "Downloading data from https://storage.googleapis.com/tensorflow/tf-keras-datasets/mnist.npz\n",
      "11493376/11490434 [==============================] - 1s 0us/step\n",
      "11501568/11490434 [==============================] - 1s 0us/step\n"
     ]
    },
    {
     "data": {
      "text/plain": [
       "(60000, 28, 28)"
      ]
     },
     "execution_count": 4,
     "metadata": {},
     "output_type": "execute_result"
    }
   ],
   "source": [
    "(train_x, train_y), (test_x, test_y) = keras.datasets.mnist.load_data()\n",
    "train_x = train_x / 255.0\n",
    "test_x = test_x / 255.0\n",
    "train_x.shape"
   ]
  },
  {
   "cell_type": "code",
   "execution_count": 5,
   "id": "f25fabb6-19d5-49a4-9598-085544a8aab2",
   "metadata": {},
   "outputs": [
    {
     "name": "stderr",
     "output_type": "stream",
     "text": [
      "2024-01-04 00:14:20.465097: W tensorflow/stream_executor/platform/default/dso_loader.cc:64] Could not load dynamic library 'libcuda.so.1'; dlerror: libcuda.so.1: cannot open shared object file: No such file or directory\n",
      "2024-01-04 00:14:20.465144: W tensorflow/stream_executor/cuda/cuda_driver.cc:269] failed call to cuInit: UNKNOWN ERROR (303)\n",
      "2024-01-04 00:14:20.465178: I tensorflow/stream_executor/cuda/cuda_diagnostics.cc:156] kernel driver does not appear to be running on this host (hp): /proc/driver/nvidia/version does not exist\n",
      "2024-01-04 00:14:20.526999: W tensorflow/core/framework/cpu_allocator_impl.cc:82] Allocation of 376320000 exceeds 10% of free system memory.\n"
     ]
    },
    {
     "data": {
      "text/plain": [
       "TensorShape([60000, 28, 28, 1])"
      ]
     },
     "execution_count": 5,
     "metadata": {},
     "output_type": "execute_result"
    }
   ],
   "source": [
    "train_x = tf.expand_dims(train_x, 3)\n",
    "test_x = tf.expand_dims(test_x, 3)\n",
    "val_x = train_x[:5000]\n",
    "val_y = train_y[:5000]\n",
    "train_x.shape"
   ]
  },
  {
   "cell_type": "code",
   "execution_count": 6,
   "id": "932346b8-8227-448e-aa93-8912ca971962",
   "metadata": {},
   "outputs": [],
   "source": [
    "lenet_5_model = keras.models.Sequential([\n",
    "    keras.layers.Conv2D(6, kernel_size=5, strides=1,  activation='tanh', input_shape=train_x[0].shape, padding='same'), #C1\n",
    "    keras.layers.AveragePooling2D(), #S2\n",
    "    keras.layers.Conv2D(16, kernel_size=5, strides=1, activation='tanh', padding='valid'), #C3\n",
    "    keras.layers.AveragePooling2D(), #S4\n",
    "    keras.layers.Flatten(), #Flatten\n",
    "    keras.layers.Dense(120, activation='tanh'), #C5\n",
    "    keras.layers.Dense(84, activation='tanh'), #F6\n",
    "    keras.layers.Dense(10, activation='softmax') #Output layer\n",
    "])"
   ]
  },
  {
   "cell_type": "code",
   "execution_count": 7,
   "id": "0f9c7fb0-964d-4279-8347-1533097d7c66",
   "metadata": {},
   "outputs": [],
   "source": [
    "lenet_5_model.compile(optimizer='adam',loss=keras.losses.sparse_categorical_crossentropy, metrics=['accuracy'])"
   ]
  },
  {
   "cell_type": "code",
   "execution_count": 8,
   "id": "c1dadc66-075f-4398-9849-4dc87647163f",
   "metadata": {},
   "outputs": [
    {
     "name": "stdout",
     "output_type": "stream",
     "text": [
      "Epoch 1/5\n",
      "1875/1875 [==============================] - 31s 15ms/step - loss: 0.2246 - accuracy: 0.9319 - val_loss: 0.0815 - val_accuracy: 0.9764\n",
      "Epoch 2/5\n",
      "1875/1875 [==============================] - 25s 13ms/step - loss: 0.0832 - accuracy: 0.9744 - val_loss: 0.0561 - val_accuracy: 0.9822\n",
      "Epoch 3/5\n",
      "1875/1875 [==============================] - 24s 13ms/step - loss: 0.0547 - accuracy: 0.9830 - val_loss: 0.0465 - val_accuracy: 0.9860\n",
      "Epoch 4/5\n",
      "1875/1875 [==============================] - 24s 13ms/step - loss: 0.0419 - accuracy: 0.9869 - val_loss: 0.0288 - val_accuracy: 0.9918\n",
      "Epoch 5/5\n",
      "1875/1875 [==============================] - 24s 13ms/step - loss: 0.0343 - accuracy: 0.9892 - val_loss: 0.0258 - val_accuracy: 0.9924\n"
     ]
    },
    {
     "data": {
      "text/plain": [
       "<keras.callbacks.History at 0x7f2a79ac39d0>"
      ]
     },
     "execution_count": 8,
     "metadata": {},
     "output_type": "execute_result"
    }
   ],
   "source": [
    "lenet_5_model.fit(train_x, train_y, epochs=5, validation_data=(val_x, val_y))"
   ]
  },
  {
   "cell_type": "code",
   "execution_count": 9,
   "id": "b9886896-43dc-4831-a595-7f040928b87f",
   "metadata": {},
   "outputs": [
    {
     "name": "stdout",
     "output_type": "stream",
     "text": [
      "313/313 [==============================] - 2s 7ms/step - loss: 0.0441 - accuracy: 0.9865\n"
     ]
    },
    {
     "data": {
      "text/plain": [
       "[0.044080235064029694, 0.9865000247955322]"
      ]
     },
     "execution_count": 9,
     "metadata": {},
     "output_type": "execute_result"
    }
   ],
   "source": [
    "lenet_5_model.evaluate(test_x, test_y)"
   ]
  },
  {
   "cell_type": "code",
   "execution_count": 10,
   "id": "e6e8ca62-f863-4e73-acac-25cd7c8d91f9",
   "metadata": {},
   "outputs": [
    {
     "data": {
      "image/png": "[encoded data removed]",
      "text/plain": [
       "<Figure size 640x480 with 1 Axes>"
      ]
     },
     "metadata": {},
     "output_type": "display_data"
    },
    {
     "data": {
      "image/png": "[encoded data removed]",
      "text/plain": [
       "<Figure size 640x480 with 1 Axes>"
      ]
     },
     "metadata": {},
     "output_type": "display_data"
    },
    {
     "data": {
      "image/png": "[encoded data removed]",
      "text/plain": [
       "<Figure size 640x480 with 1 Axes>"
      ]
     },
     "metadata": {},
     "output_type": "display_data"
    }
   ],
   "source": [
    "for i in range(3):  \n",
    "    pyplot.subplot(330 + 1 + i)\n",
    "    pyplot.imshow(train_x[i], cmap=pyplot.get_cmap('gray'))\n",
    "    pyplot.show()"
   ]
  },
  {
   "cell_type": "code",
   "execution_count": 11,
   "id": "329cc15c-9b02-462d-b4e3-5b9d4c765bd8",
   "metadata": {},
   "outputs": [
    {
     "name": "stderr",
     "output_type": "stream",
     "text": [
      "2024-01-04 00:16:33.744056: W tensorflow/python/util/util.cc:368] Sets are not currently considered sequences, but this may change in the future, so consider avoiding using them.\n"
     ]
    },
    {
     "name": "stdout",
     "output_type": "stream",
     "text": [
      "INFO:tensorflow:Assets written to: lenet_5_model/assets\n"
     ]
    }
   ],
   "source": [
    "lenet_5_model.save('lenet_5_model')"
   ]
  },
  {
   "cell_type": "code",
   "execution_count": 12,
   "id": "d883f56b-b134-4d81-aedb-1a0213cf2e5a",
   "metadata": {},
   "outputs": [],
   "source": [
    "lenet_5_model.save(\"my.h5\")"
   ]
  },
  {
   "cell_type": "code",
   "execution_count": 13,
   "id": "e4039b16-8b65-4686-8e77-d8933555c2b1",
   "metadata": {},
   "outputs": [
    {
     "name": "stdout",
     "output_type": "stream",
     "text": [
      "Model: \"sequential\"\n",
      "_________________________________________________________________\n",
      " Layer (type)                Output Shape              Param #   \n",
      "=================================================================\n",
      " conv2d (Conv2D)             (None, 28, 28, 6)         156       \n",
      "                                                                 \n",
      " average_pooling2d (AverageP  (None, 14, 14, 6)        0         \n",
      " ooling2D)                                                       \n",
      "                                                                 \n",
      " conv2d_1 (Conv2D)           (None, 10, 10, 16)        2416      \n",
      "                                                                 \n",
      " average_pooling2d_1 (Averag  (None, 5, 5, 16)         0         \n",
      " ePooling2D)                                                     \n",
      "                                                                 \n",
      " flatten (Flatten)           (None, 400)               0         \n",
      "                                                                 \n",
      " dense (Dense)               (None, 120)               48120     \n",
      "                                                                 \n",
      " dense_1 (Dense)             (None, 84)                10164     \n",
      "                                                                 \n",
      " dense_2 (Dense)             (None, 10)                850       \n",
      "                                                                 \n",
      "=================================================================\n",
      "Total params: 61,706\n",
      "Trainable params: 61,706\n",
      "Non-trainable params: 0\n",
      "_________________________________________________________________\n"
     ]
    }
   ],
   "source": [
    "lenet_5_model.summary()"
   ]
  },
  {
   "cell_type": "code",
   "execution_count": 14,
   "id": "24d1a878-c7a2-4688-9dca-35ab8c5edd2c",
   "metadata": {},
   "outputs": [],
   "source": [
    "json_model = lenet_5_model.to_json()"
   ]
  },
  {
   "cell_type": "code",
   "execution_count": 15,
   "id": "c3a3b789-e537-4677-931e-6688b2786be7",
   "metadata": {},
   "outputs": [],
   "source": [
    "with open('fashionmnist_model.json', 'w') as json_file:\n",
    "    json_file.write(json_model)"
   ]
  },
  {
   "cell_type": "code",
   "execution_count": 16,
   "id": "14bd5eec-4991-4eed-ac6e-4d6d126a167d",
   "metadata": {},
   "outputs": [],
   "source": [
    "lenet_5_model.save_weights('FashionMNIST_weights.h5')"
   ]
  },
  {
   "cell_type": "code",
   "execution_count": 17,
   "id": "929aed57-808a-4df6-a9f7-ce9eec9d4ba1",
   "metadata": {},
   "outputs": [
    {
     "data": {
      "text/plain": [
       "array([[[[ 0.21633759,  0.06661004,  0.34044895, -0.19899143,\n",
       "          -0.02588566,  0.19941607]],\n",
       "\n",
       "        [[ 0.06090792, -0.31299624,  0.23542234,  0.00420642,\n",
       "           0.30037293,  0.31359583]],\n",
       "\n",
       "        [[ 0.03722027, -0.2265251 ,  0.17787877,  0.5492255 ,\n",
       "           0.2092798 ,  0.1278555 ]],\n",
       "\n",
       "        [[ 0.12791674, -0.10896187,  0.21192455,  0.19266887,\n",
       "           0.21050169,  0.15348765]],\n",
       "\n",
       "        [[ 0.23556118, -0.2701838 ,  0.21337892,  0.04952074,\n",
       "           0.16052385,  0.14377508]]],\n",
       "\n",
       "\n",
       "       [[[ 0.03565683,  0.33883753,  0.33268774, -0.10556316,\n",
       "           0.21142636,  0.24678916]],\n",
       "\n",
       "        [[-0.5454406 ,  0.07289774,  0.22104289,  0.3403291 ,\n",
       "           0.24485107,  0.15470423]],\n",
       "\n",
       "        [[-0.5114359 , -0.17405657,  0.08124029,  0.851229  ,\n",
       "          -0.18914844,  0.01405771]],\n",
       "\n",
       "        [[-0.26441538, -0.08694343,  0.17526603,  0.21220428,\n",
       "          -0.04585227,  0.22598471]],\n",
       "\n",
       "        [[-0.03881659,  0.08737693,  0.08849604, -0.2650286 ,\n",
       "           0.13666642,  0.23634441]]],\n",
       "\n",
       "\n",
       "       [[[-0.11198357,  0.5362767 ,  0.25038117, -0.23279618,\n",
       "           0.2502879 , -0.25347146]],\n",
       "\n",
       "        [[-0.6919595 ,  0.67632824, -0.15881664,  0.6051211 ,\n",
       "          -0.21059608, -0.35882092]],\n",
       "\n",
       "        [[-0.4435526 ,  0.6311456 , -0.19313192,  0.6538403 ,\n",
       "          -0.37542036, -0.1286086 ]],\n",
       "\n",
       "        [[ 0.08240538,  0.60197705,  0.02277335,  0.16966614,\n",
       "          -0.38325652, -0.04128254]],\n",
       "\n",
       "        [[ 0.17581262,  0.26199758,  0.01113107, -0.27062112,\n",
       "          -0.11983295, -0.10193098]]],\n",
       "\n",
       "\n",
       "       [[[-0.04470951,  0.07020112, -0.32221028, -0.13213399,\n",
       "           0.13237143, -0.533406  ]],\n",
       "\n",
       "        [[-0.12709397,  0.09545916, -0.57608366,  0.6542713 ,\n",
       "          -0.22950408, -0.67419636]],\n",
       "\n",
       "        [[ 0.01323629,  0.4666401 , -0.3317957 ,  0.45997265,\n",
       "          -0.3379459 , -0.39421147]],\n",
       "\n",
       "        [[ 0.18834224,  0.3554397 , -0.48604053,  0.06417555,\n",
       "          -0.27406332, -0.0191169 ]],\n",
       "\n",
       "        [[ 0.08876675,  0.3721666 , -0.35335052, -0.19684532,\n",
       "          -0.06735232,  0.22593161]]],\n",
       "\n",
       "\n",
       "       [[[ 0.35731047, -0.2829841 , -0.41228083,  0.15614569,\n",
       "           0.3724053 , -0.18442154]],\n",
       "\n",
       "        [[ 0.09419973, -0.10886589, -0.33931443,  0.566619  ,\n",
       "          -0.01313614, -0.12510248]],\n",
       "\n",
       "        [[ 0.4370195 , -0.11950497, -0.236927  ,  0.4027359 ,\n",
       "          -0.12263286, -0.08872659]],\n",
       "\n",
       "        [[ 0.2268973 , -0.2030172 , -0.06647944, -0.10416883,\n",
       "          -0.10108823,  0.24747546]],\n",
       "\n",
       "        [[ 0.2430133 , -0.13286506, -0.02227915, -0.22120148,\n",
       "           0.19600737,  0.33735028]]]], dtype=float32)"
      ]
     },
     "execution_count": 17,
     "metadata": {},
     "output_type": "execute_result"
    }
   ],
   "source": [
    "lenet_5_model.layers[0].get_weights()[0]"
   ]
  }
 ],
 "metadata": {
  "kernelspec": {
   "display_name": "Python 3 (ipykernel)",
   "language": "python",
   "name": "python3"
  },
  "language_info": {
   "codemirror_mode": {
    "name": "ipython",
    "version": 3
   },
   "file_extension": ".py",
   "mimetype": "text/x-python",
   "name": "python",
   "nbconvert_exporter": "python",
   "pygments_lexer": "ipython3",
   "version": "3.9.2"
  }
 },
 "nbformat": 4,
 "nbformat_minor": 5
}
